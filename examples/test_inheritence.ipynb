{
 "cells": [
  {
   "cell_type": "markdown",
   "metadata": {},
   "source": [
    "# Inheritence\n",
    "\n",
    "In this notebook, we will test some of the inheritence capabilities of the dypy wrappers. "
   ]
  },
  {
   "cell_type": "code",
   "execution_count": 3,
   "metadata": {},
   "outputs": [
    {
     "name": "stdout",
     "output_type": "stream",
     "text": [
      "The autoreload extension is already loaded. To reload it, use:\n",
      "  %reload_ext autoreload\n"
     ]
    }
   ],
   "source": [
    "import sys\n",
    "\n",
    "sys.path.append('..')\n",
    "\n",
    "%load_ext autoreload\n"
   ]
  },
  {
   "cell_type": "markdown",
   "metadata": {},
   "source": [
    "\n",
    "Tired of passing attributes to the parent constructor function? The `dynamize` wrapper has got your back!"
   ]
  },
  {
   "cell_type": "code",
   "execution_count": 30,
   "metadata": {},
   "outputs": [],
   "source": [
    "%autoreload 2\n",
    "import dypy.wrappers as dyw\n",
    "\n",
    "@dyw.dynamize\n",
    "class A:\n",
    "    x = dyw.field(1)\n",
    "    y = dyw.field(2)\n",
    "\n",
    "\n",
    "    def __repr__(self) -> str:\n",
    "        return f\"A({self.x}, {self.y})\"\n",
    "        \n",
    "    @dyw.method\n",
    "    def foo(self):\n",
    "        return 1\n",
    "\n",
    "@dyw.dynamize\n",
    "class B(A):\n",
    "    z = dyw.field(3)\n",
    "\n",
    "\n",
    "    def __repr__(self) -> str:\n",
    "        return f\"B({self.x}, {self.y}, {self.z})\"\n",
    "    \n",
    "    @dyw.method\n",
    "    def bar(self):\n",
    "        return 2"
   ]
  },
  {
   "cell_type": "code",
   "execution_count": 31,
   "metadata": {},
   "outputs": [
    {
     "name": "stdout",
     "output_type": "stream",
     "text": [
      "B(4, 2, 3)\n",
      "1\n",
      "9\n"
     ]
    }
   ],
   "source": [
    "\n",
    "b = B(x=dyw.field(4), bar='lambda self: self.x + self.y + self.z')\n",
    "\n",
    "print(b)\n",
    "print(b.foo())\n",
    "print(b.bar())"
   ]
  },
  {
   "cell_type": "markdown",
   "metadata": {},
   "source": [
    "## Inheritence rules\n",
    "\n",
    "The `inheritence_strict` option ensures that if a dynamized class `A` is created, then all its children should also be decorated. Otherwise, some of the functionalities might fall apart."
   ]
  },
  {
   "cell_type": "code",
   "execution_count": 35,
   "metadata": {},
   "outputs": [
    {
     "ename": "AttributeError",
     "evalue": "Father is a strict class and can only be inherited by classes with the same criteria:\ntry decorating the child class with @dypy.wrappers such as @dypy.wrappers.dynamize",
     "output_type": "error",
     "traceback": [
      "\u001b[0;31m---------------------------------------------------------------------------\u001b[0m",
      "\u001b[0;31mAttributeError\u001b[0m                            Traceback (most recent call last)",
      "Cell \u001b[0;32mIn[35], line 14\u001b[0m\n\u001b[1;32m     10\u001b[0m         \u001b[39msuper\u001b[39m()\u001b[39m.\u001b[39m\u001b[39m__init__\u001b[39m()\n\u001b[1;32m     11\u001b[0m         \u001b[39mself\u001b[39m\u001b[39m.\u001b[39mx \u001b[39m=\u001b[39m x\n\u001b[0;32m---> 14\u001b[0m c \u001b[39m=\u001b[39m Child(x\u001b[39m=\u001b[39;49m \u001b[39m1\u001b[39;49m)\n\u001b[1;32m     15\u001b[0m \u001b[39mprint\u001b[39m(c\u001b[39m.\u001b[39mx, c\u001b[39m.\u001b[39my)\n",
      "Cell \u001b[0;32mIn[35], line 10\u001b[0m, in \u001b[0;36mChild.__init__\u001b[0;34m(self, x)\u001b[0m\n\u001b[1;32m      9\u001b[0m \u001b[39mdef\u001b[39;00m \u001b[39m__init__\u001b[39m(\u001b[39mself\u001b[39m, x):\n\u001b[0;32m---> 10\u001b[0m     \u001b[39msuper\u001b[39;49m()\u001b[39m.\u001b[39;49m\u001b[39m__init__\u001b[39;49m()\n\u001b[1;32m     11\u001b[0m     \u001b[39mself\u001b[39m\u001b[39m.\u001b[39mx \u001b[39m=\u001b[39m x\n",
      "File \u001b[0;32m~/Work/myprojects/dypy/examples/../dypy/wrappers/utils.py:17\u001b[0m, in \u001b[0;36mmake_inheritence_strict.<locals>.new_init\u001b[0;34m(self, *args, **kwargs)\u001b[0m\n\u001b[1;32m     12\u001b[0m \u001b[39m@functools\u001b[39m\u001b[39m.\u001b[39mwraps(old_init)\n\u001b[1;32m     13\u001b[0m \u001b[39mdef\u001b[39;00m \u001b[39mnew_init\u001b[39m(\u001b[39mself\u001b[39m, \u001b[39m*\u001b[39margs, \u001b[39m*\u001b[39m\u001b[39m*\u001b[39mkwargs):\n\u001b[1;32m     14\u001b[0m \n\u001b[1;32m     15\u001b[0m     \u001b[39m# Check if the class is itself decorated with @dynamize or not\u001b[39;00m\n\u001b[1;32m     16\u001b[0m     \u001b[39mif\u001b[39;00m attribute_to_check \u001b[39mnot\u001b[39;00m \u001b[39min\u001b[39;00m \u001b[39mself\u001b[39m\u001b[39m.\u001b[39m\u001b[39m__class__\u001b[39m\u001b[39m.\u001b[39m\u001b[39m__dict__\u001b[39m:\n\u001b[0;32m---> 17\u001b[0m         \u001b[39mraise\u001b[39;00m \u001b[39mAttributeError\u001b[39;00m(\n\u001b[1;32m     18\u001b[0m             \u001b[39mf\u001b[39m\u001b[39m\"\u001b[39m\u001b[39m{\u001b[39;00m\u001b[39mcls\u001b[39m\u001b[39m.\u001b[39m\u001b[39m__name__\u001b[39m\u001b[39m}\u001b[39;00m\u001b[39m is a strict class and can only be inherited by classes with the same criteria:\u001b[39m\u001b[39m\"\u001b[39m\n\u001b[1;32m     19\u001b[0m             \u001b[39m\"\u001b[39m\u001b[39m\\n\u001b[39;00m\u001b[39mtry decorating the child class with @dypy.wrappers such as @dypy.wrappers.dynamize\u001b[39m\u001b[39m\"\u001b[39m\n\u001b[1;32m     20\u001b[0m         )\n\u001b[1;32m     21\u001b[0m     \u001b[39mreturn\u001b[39;00m old_init(\u001b[39mself\u001b[39m, \u001b[39m*\u001b[39margs, \u001b[39m*\u001b[39m\u001b[39m*\u001b[39mkwargs)\n",
      "\u001b[0;31mAttributeError\u001b[0m: Father is a strict class and can only be inherited by classes with the same criteria:\ntry decorating the child class with @dypy.wrappers such as @dypy.wrappers.dynamize"
     ]
    }
   ],
   "source": [
    "%autoreload 2\n",
    "\n",
    "@dyw.dynamize\n",
    "class Father:\n",
    "    y = dyw.field(1)\n",
    "\n",
    "#dyw.dynamize\n",
    "class Child(Father):\n",
    "    def __init__(self, x):\n",
    "        super().__init__()\n",
    "        self.x = x\n",
    "\n",
    "\n",
    "c = Child(x= 1)\n",
    "print(c.x, c.y)"
   ]
  },
  {
   "cell_type": "markdown",
   "metadata": {},
   "source": [
    "Now let's change the strictness:"
   ]
  },
  {
   "cell_type": "code",
   "execution_count": 37,
   "metadata": {},
   "outputs": [
    {
     "name": "stdout",
     "output_type": "stream",
     "text": [
      "1\n"
     ]
    }
   ],
   "source": [
    "%autoreload 2\n",
    "\n",
    "# setting inheritence_struct to False will allow the child class to inherit from \n",
    "# the parent class without being decorated with @dynamize; however, unwanted results \n",
    "# may happen in this case and we expect that all child classes of a dynamic class is dynamic\n",
    "@dyw.dynamize(inheritence_strict=False)\n",
    "class Father:\n",
    "    y = dyw.field(1)\n",
    "\n",
    "class Child(Father):\n",
    "    def __init__(self, x):\n",
    "        super().__init__()\n",
    "        self.x = x\n",
    "\n",
    "\n",
    "c = Child(x= 1)\n",
    "print(c.x)"
   ]
  }
 ],
 "metadata": {
  "kernelspec": {
   "display_name": "Python 3.10.9 ('venv': venv)",
   "language": "python",
   "name": "python3"
  },
  "language_info": {
   "codemirror_mode": {
    "name": "ipython",
    "version": 3
   },
   "file_extension": ".py",
   "mimetype": "text/x-python",
   "name": "python",
   "nbconvert_exporter": "python",
   "pygments_lexer": "ipython3",
   "version": "3.10.9"
  },
  "orig_nbformat": 4,
  "vscode": {
   "interpreter": {
    "hash": "b8830700a84a06840cdb240f48d81084db07a35c9ef84f1393b6d5d640478af3"
   }
  }
 },
 "nbformat": 4,
 "nbformat_minor": 2
}
