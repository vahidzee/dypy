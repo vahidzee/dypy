{
 "cells": [
  {
   "cell_type": "code",
   "execution_count": 1,
   "metadata": {},
   "outputs": [],
   "source": [
    "import sys\n",
    "\n",
    "sys.path.append('..')\n",
    "\n",
    "%load_ext autoreload"
   ]
  },
  {
   "cell_type": "code",
   "execution_count": 2,
   "metadata": {},
   "outputs": [],
   "source": [
    "%autoreload 2\n",
    "import torch\n",
    "import dypy.wrappers as dyw\n",
    "@dyw.dynamize\n",
    "class TrainingModule:\n",
    "    layer1 = dyw.composite('torch.nn.Linear', in_features=10, out_features=11, nullable=True)\n",
    "    layer2 = dyw.composite('torch.nn.Linear', in_features=10, out_features=11)\n",
    "    \n",
    "    a: int = dyw.field(1, nullable=True)\n",
    "    "
   ]
  },
  {
   "cell_type": "code",
   "execution_count": 3,
   "metadata": {},
   "outputs": [],
   "source": [
    "tm1 = TrainingModule(layer1=None, a=2)\n",
    "tm2 = TrainingModule(layer1='torch.nn.MaxPool1d', layer1_args=dict(kernel_size=3), a=None)\n",
    "\n",
    "try:\n",
    "    tm3 = TrainingModule(layer2=None, a=None)\n",
    "except TypeError:\n",
    "    pass\n",
    "else:\n",
    "    raise Exception('Should raise TypeError')\n",
    "\n",
    "assert tm1.layer1 is None\n",
    "assert tm2.a is None"
   ]
  }
 ],
 "metadata": {
  "kernelspec": {
   "display_name": "Python 3.10.9 64-bit",
   "language": "python",
   "name": "python3"
  },
  "language_info": {
   "codemirror_mode": {
    "name": "ipython",
    "version": 3
   },
   "file_extension": ".py",
   "mimetype": "text/x-python",
   "name": "python",
   "nbconvert_exporter": "python",
   "pygments_lexer": "ipython3",
   "version": "3.10.9"
  },
  "orig_nbformat": 4,
  "vscode": {
   "interpreter": {
    "hash": "e7370f93d1d0cde622a1f8e1c04877d8463912d04d973331ad4851f04de6915a"
   }
  }
 },
 "nbformat": 4,
 "nbformat_minor": 2
}
